{
 "metadata": {
  "language_info": {
   "codemirror_mode": {
    "name": "ipython",
    "version": 3
   },
   "file_extension": ".py",
   "mimetype": "text/x-python",
   "name": "python",
   "nbconvert_exporter": "python",
   "pygments_lexer": "ipython3",
   "version": "3.8.5"
  },
  "orig_nbformat": 2,
  "kernelspec": {
   "name": "python3",
   "display_name": "Python 3.8.5 64-bit",
   "metadata": {
    "interpreter": {
     "hash": "31f2aee4e71d21fbe5cf8b01ff0e069b9275f58929596ceb00d14d90e3e16cd6"
    }
   }
  }
 },
 "nbformat": 4,
 "nbformat_minor": 2,
 "cells": [
  {
   "cell_type": "code",
   "execution_count": 3,
   "metadata": {},
   "outputs": [
    {
     "output_type": "stream",
     "name": "stderr",
     "text": [
      "[nltk_data] Downloading package punkt to\n",
      "[nltk_data]     /home/adityasingh/nltk_data...\n",
      "[nltk_data]   Package punkt is already up-to-date!\n",
      "/home/adityasingh/.local/lib/python3.8/site-packages/gensim/similarities/__init__.py:15: UserWarning: The gensim.similarities.levenshtein submodule is disabled, because the optional Levenshtein package <https://pypi.org/project/python-Levenshtein/> is unavailable. Install Levenhstein (e.g. `pip install python-Levenshtein`) to suppress this warning.\n",
      "  warnings.warn(msg)\n"
     ]
    }
   ],
   "source": [
    "import nltk\n",
    "nltk.download('punkt')\n",
    "import tensorflow as tf\n",
    "import pandas as pd\n",
    "import numpy as np\n",
    "import re\n",
    "from nltk.stem import PorterStemmer, WordNetLemmatizer\n",
    "from nltk.corpus import stopwords\n",
    "from nltk.tokenize import word_tokenize, sent_tokenize\n",
    "import gensim\n",
    "from gensim.utils import simple_preprocess\n",
    "from gensim.parsing.preprocessing import STOPWORDS\n",
    "from sklearn.feature_extraction.text import TfidfVectorizer"
   ]
  },
  {
   "cell_type": "code",
   "execution_count": 4,
   "metadata": {},
   "outputs": [
    {
     "output_type": "execute_result",
     "data": {
      "text/plain": [
       "   Question_ID                                          Questions  \\\n",
       "0      1590140        What does it mean to have a mental illness?   \n",
       "1      2110618                    Who does mental illness affect?   \n",
       "2      6361820                        What causes mental illness?   \n",
       "3      9434130  What are some of the warning signs of mental i...   \n",
       "4      7657263            Can people with mental illness recover?   \n",
       "\n",
       "                                             Answers  \n",
       "0  Mental illnesses are health conditions that di...  \n",
       "1  It is estimated that mental illness affects 1 ...  \n",
       "2  It is estimated that mental illness affects 1 ...  \n",
       "3  Symptoms of mental health disorders vary depen...  \n",
       "4  When healing from mental illness, early identi...  "
      ],
      "text/html": "<div>\n<style scoped>\n    .dataframe tbody tr th:only-of-type {\n        vertical-align: middle;\n    }\n\n    .dataframe tbody tr th {\n        vertical-align: top;\n    }\n\n    .dataframe thead th {\n        text-align: right;\n    }\n</style>\n<table border=\"1\" class=\"dataframe\">\n  <thead>\n    <tr style=\"text-align: right;\">\n      <th></th>\n      <th>Question_ID</th>\n      <th>Questions</th>\n      <th>Answers</th>\n    </tr>\n  </thead>\n  <tbody>\n    <tr>\n      <th>0</th>\n      <td>1590140</td>\n      <td>What does it mean to have a mental illness?</td>\n      <td>Mental illnesses are health conditions that di...</td>\n    </tr>\n    <tr>\n      <th>1</th>\n      <td>2110618</td>\n      <td>Who does mental illness affect?</td>\n      <td>It is estimated that mental illness affects 1 ...</td>\n    </tr>\n    <tr>\n      <th>2</th>\n      <td>6361820</td>\n      <td>What causes mental illness?</td>\n      <td>It is estimated that mental illness affects 1 ...</td>\n    </tr>\n    <tr>\n      <th>3</th>\n      <td>9434130</td>\n      <td>What are some of the warning signs of mental i...</td>\n      <td>Symptoms of mental health disorders vary depen...</td>\n    </tr>\n    <tr>\n      <th>4</th>\n      <td>7657263</td>\n      <td>Can people with mental illness recover?</td>\n      <td>When healing from mental illness, early identi...</td>\n    </tr>\n  </tbody>\n</table>\n</div>"
     },
     "metadata": {},
     "execution_count": 4
    }
   ],
   "source": [
    "df=pd.read_csv(\"Mental_Health_FAQ.csv\")\n",
    "df.head()"
   ]
  },
  {
   "cell_type": "code",
   "execution_count": 7,
   "metadata": {},
   "outputs": [
    {
     "output_type": "stream",
     "name": "stdout",
     "text": [
      "Index(['Question_ID', 'Questions', 'Answers'], dtype='object')\n"
     ]
    }
   ],
   "source": [
    "print(df.columns)"
   ]
  },
  {
   "cell_type": "code",
   "execution_count": 6,
   "metadata": {},
   "outputs": [
    {
     "output_type": "stream",
     "name": "stderr",
     "text": [
      "[nltk_data] Downloading package stopwords to\n[nltk_data]     /home/adityasingh/nltk_data...\n[nltk_data]   Package stopwords is already up-to-date!\n"
     ]
    }
   ],
   "source": [
    "nltk.download('stopwords')\n",
    "stop_words = stopwords.words('english')"
   ]
  },
  {
   "cell_type": "code",
   "execution_count": 8,
   "metadata": {},
   "outputs": [
    {
     "output_type": "execute_result",
     "data": {
      "text/plain": [
       "0    [mental, ill, health, condit, disrupt, personâ...\n",
       "1    [estim, mental, ill, affect, adult, america, a...\n",
       "2    [estim, mental, ill, affect, adult, america, a...\n",
       "3    [symptom, mental, health, disord, vari, depend...\n",
       "4    [heal, mental, ill, earli, identif, treatment,...\n",
       "Name: Answers_clean, dtype: object"
      ]
     },
     "metadata": {},
     "execution_count": 8
    }
   ],
   "source": [
    "ps = PorterStemmer()\n",
    "def preprocess(text):\n",
    "    result = []\n",
    "    for token in gensim.utils.simple_preprocess(text):\n",
    "        if token not in stop_words:\n",
    "            token=ps.stem(token)\n",
    "            result.append(token)\n",
    "            \n",
    "    return result\n",
    "df[\"Questions_clean\"]=df.Questions.apply(preprocess)\n",
    "df[\"Answers_clean\"]=df.Answers.apply(preprocess)\n",
    "df.Questions_clean.head()\n"
   ]
  },
  {
   "cell_type": "code",
   "execution_count": 9,
   "metadata": {},
   "outputs": [
    {
     "output_type": "execute_result",
     "data": {
      "text/plain": [
       "0    [mental, ill, health, condit, disrupt, personâ...\n",
       "1    [estim, mental, ill, affect, adult, america, a...\n",
       "2    [estim, mental, ill, affect, adult, america, a...\n",
       "3    [symptom, mental, health, disord, vari, depend...\n",
       "4    [heal, mental, ill, earli, identif, treatment,...\n",
       "Name: Answers_clean, dtype: object"
      ]
     },
     "metadata": {},
     "execution_count": 9
    }
   ],
   "source": [
    "df.Answers_clean.head()"
   ]
  },
  {
   "cell_type": "code",
   "execution_count": 10,
   "metadata": {},
   "outputs": [],
   "source": [
    "df[\"Questions_joined\"]=[\" \".join(token) for token in df['Questions_clean'].values]\n",
    "df[\"Answers_joined\"]=[\" \".join(token) for token in df['Answers_clean'].values]"
   ]
  },
  {
   "cell_type": "code",
   "execution_count": 11,
   "metadata": {},
   "outputs": [
    {
     "output_type": "execute_result",
     "data": {
      "text/plain": [
       "0           mean mental ill\n",
       "1         mental ill affect\n",
       "2           caus mental ill\n",
       "3      warn sign mental ill\n",
       "4    peopl mental ill recov\n",
       "Name: Questions_joined, dtype: object"
      ]
     },
     "metadata": {},
     "execution_count": 11
    }
   ],
   "source": [
    "df.Questions_joined.head()"
   ]
  },
  {
   "cell_type": "code",
   "execution_count": 12,
   "metadata": {},
   "outputs": [
    {
     "output_type": "execute_result",
     "data": {
      "text/plain": [
       "0    mental ill health condit disrupt personâ thoug...\n",
       "1    estim mental ill affect adult america adult se...\n",
       "2    estim mental ill affect adult america adult se...\n",
       "3    symptom mental health disord vari depend type ...\n",
       "4    heal mental ill earli identif treatment vital ...\n",
       "Name: Answers_joined, dtype: object"
      ]
     },
     "metadata": {},
     "execution_count": 12
    }
   ],
   "source": [
    "df.Answers_joined.head()"
   ]
  },
  {
   "cell_type": "code",
   "execution_count": null,
   "metadata": {},
   "outputs": [],
   "source": []
  }
 ]
}